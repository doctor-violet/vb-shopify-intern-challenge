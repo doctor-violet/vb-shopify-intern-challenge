{
 "cells": [
  {
   "cell_type": "markdown",
   "metadata": {},
   "source": [
    "# Violet Ballard - Shopify Data Science Intern Challenge - Fall 2022"
   ]
  },
  {
   "cell_type": "markdown",
   "metadata": {},
   "source": [
    "## **Question 1**\n",
    "### On Shopify, we have exactly 100 sneaker shops, and each of these shops sells only one model of shoe. We want to do some analysis of the average order value (AOV). When we look at orders data over a 30 day window, we naively calculate an AOV of $3145.13. Given that we know these shops are selling sneakers, a relatively affordable item, something seems wrong with our analysis."
   ]
  },
  {
   "cell_type": "markdown",
   "metadata": {},
   "source": [
    "#### **Think about what could be going wrong with our calculation. Think about a better way to evaluate this data.**"
   ]
  },
  {
   "cell_type": "markdown",
   "metadata": {},
   "source": [
    "The first step I took in understanding the calculation of average order value was to download the dataset and examine it in Excel. It appeared as though there were some outliers for order_amount that would indicate an inflated the AOV. I then described order_amount pandas and plotted a boxplot to look at the shape of the data."
   ]
  },
  {
   "cell_type": "code",
   "execution_count": 2,
   "metadata": {},
   "outputs": [
    {
     "name": "stdout",
     "output_type": "stream",
     "text": [
      "count      5000.000000\n",
      "mean       3145.128000\n",
      "std       41282.539349\n",
      "min          90.000000\n",
      "25%         163.000000\n",
      "50%         284.000000\n",
      "75%         390.000000\n",
      "max      704000.000000\n",
      "Name: order_amount, dtype: float64\n"
     ]
    }
   ],
   "source": [
    "# Descriptive statistics for order_amount\n",
    "import pandas as pd\n",
    "\n",
    "dtypes = {\n",
    "    'order_id': 'category',\n",
    "    'shop_id': 'category',\n",
    "    'user_id': 'category',\n",
    "    'order_amount': 'int',\n",
    "    'total_items': 'int',\n",
    "    'payment_method': 'category',\n",
    "    'created_at': 'str'\n",
    "}\n",
    "\n",
    "parse_dates = ['created_at']\n",
    "\n",
    "intern_challenge_df = pd.read_csv(\"shopify-intern-challenge-dataset.csv\", dtype=dtypes, parse_dates=parse_dates)\n",
    "print(intern_challenge_df['order_amount'].describe())\n"
   ]
  },
  {
   "cell_type": "markdown",
   "metadata": {},
   "source": [
    "The median value (50% percentile) provides a much more reasonable number than the mean. Looking at the high standard deviation, the reasonable 25%-75% percentiles, and the high max values, it is clear that there are a few outliers that make the value of AOV is inflated when calculated as a mean. This becomes really clear when viewing order_amount as a boxplot. The quartiles disappear on the chart because the outliers are so far outside the standard distribution."
   ]
  },
  {
   "cell_type": "code",
   "execution_count": 3,
   "metadata": {},
   "outputs": [
    {
     "data": {
      "image/png": "[encoded data removed]",
      "text/plain": [
       "<Figure size 432x288 with 1 Axes>"
      ]
     },
     "metadata": {
      "needs_background": "light"
     },
     "output_type": "display_data"
    }
   ],
   "source": [
    "# Boxplot for order_amount\n",
    "boxplot = intern_challenge_df.boxplot(column=['order_amount'])"
   ]
  },
  {
   "cell_type": "markdown",
   "metadata": {},
   "source": [
    "#### **What metric would you report for this dataset?**"
   ]
  },
  {
   "cell_type": "markdown",
   "metadata": {},
   "source": [
    "I would want to look at the median value for order_amount in addition to the mean value for order_amount in order to provide an interpretable metric for AOV. Seeing a high mean with a lower median for a month would mean that a few stores sold really well that month but that it is not a permanent pattern. If the median starts to increase and converge with the mean, this means that there is an overall growth in average order value. I would return both the median and mean values as a named tuple, so they can be viewed as a pair."
   ]
  },
  {
   "cell_type": "markdown",
   "metadata": {},
   "source": [
    "#### **What is its value?**"
   ]
  },
  {
   "cell_type": "code",
   "execution_count": 4,
   "metadata": {},
   "outputs": [
    {
     "name": "stdout",
     "output_type": "stream",
     "text": [
      "median order value: 284.0\n",
      "mean order value: 3145.128\n"
     ]
    }
   ],
   "source": [
    "#Calculate Average Order Value (AOV)\n",
    "from collections import namedtuple\n",
    "\n",
    "median_order_value = intern_challenge_df['order_amount'].median()\n",
    "mean_order_value = intern_challenge_df['order_amount'].mean()\n",
    "\n",
    "AOV = namedtuple('AOV', 'median mean')\n",
    "aov = AOV(median_order_value, mean_order_value)\n",
    "\n",
    "print(f\"median order value: {aov.median}\")\n",
    "print(f\"mean order value: {aov.mean}\")"
   ]
  }
 ],
 "metadata": {
  "interpreter": {
   "hash": "2929c645f28b04d4526b73284342fab7decc98091cc61d99075d6ab6892d6599"
  },
  "kernelspec": {
   "display_name": "Python 3.10.4 ('shopify')",
   "language": "python",
   "name": "python3"
  },
  "language_info": {
   "codemirror_mode": {
    "name": "ipython",
    "version": 3
   },
   "file_extension": ".py",
   "mimetype": "text/x-python",
   "name": "python",
   "nbconvert_exporter": "python",
   "pygments_lexer": "ipython3",
   "version": "3.10.4"
  },
  "orig_nbformat": 4
 },
 "nbformat": 4,
 "nbformat_minor": 2
}
